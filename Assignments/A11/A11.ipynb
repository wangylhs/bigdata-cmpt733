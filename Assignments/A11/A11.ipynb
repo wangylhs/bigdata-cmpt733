{
 "cells": [
  {
   "cell_type": "markdown",
   "metadata": {},
   "source": [
    "# Assignment 11: AWS 101"
   ]
  },
  {
   "cell_type": "markdown",
   "metadata": {},
   "source": [
    "## Objective"
   ]
  },
  {
   "cell_type": "markdown",
   "metadata": {},
   "source": [
    "This task aims to deepen your understanding of AWS. After completing it, you should be able to answer the following questions:\n",
    "\n",
    "\n",
    "### AWS\n",
    "\n",
    "1. Why Cloud Computing?\n",
    "2. How to launch an Amazon EC2 Instance?\n",
    "3. How to run an iPython Notebook Server on AWS - EC2 instance?\n",
    "4. What are the key concepts of S3?\n",
    "5. How to transfer files between S3 and a local machine?\n"
   ]
  },
  {
   "cell_type": "markdown",
   "metadata": {},
   "source": [
    "The dataset (`playbyplay20120510040.txt`) used in this assignment can be downloaded from http://tiny.cc/cmpt733-datasets."
   ]
  },
  {
   "cell_type": "markdown",
   "metadata": {},
   "source": [
    "## Amazon Web Services (AWS)"
   ]
  },
  {
   "cell_type": "markdown",
   "metadata": {},
   "source": [
    "Cloud computing is well known for a _pay-as-you-go_ model. That is, pay only for what you use. This model significantly reduces the cost of data storage and data processing, making big data techniques accessible to more and more people. Therefore, the company that you are going to work in the future is very likely to use EC2-like instances (on AWS, GCP, Azure, Digital Ocean, or a private cloud) for data processing and use S3 for data storage.\n",
    "\n",
    "To help you overcome this barrier, you will learn how to use AWS EC2 and S3."
   ]
  },
  {
   "cell_type": "markdown",
   "metadata": {},
   "source": [
    "### Task A.1: Launching an Amazon EC2 Instance (Infrastructure)"
   ]
  },
  {
   "cell_type": "markdown",
   "metadata": {},
   "source": [
    "Amazon provides an AWS Free Tier that includes services with a free tier available for 12 months. Please follow [\"Getting Started with Amazon EC2 Linux Instances\"](http://docs.aws.amazon.com/AWSEC2/latest/UserGuide/EC2_GetStarted.html) to launch a free EC2 instance. You can either use the Free Tier access, or save that for some other time and work with the in-class credit that was mailed out with this assignment.\n",
    "\n",
    "<u>__Please choose an ubuntu OS system:__</u>\n",
    "> <img src=\"img/ubuntu.png\"/>\n",
    "\n",
    "<u>__Please choose the free t2.micro:__</u>\n",
    "> <img src=\"img/free.png\"/>\n",
    "\n"
   ]
  },
  {
   "cell_type": "markdown",
   "metadata": {},
   "source": [
    "### Task A.2 : Running an iPython Notebook Server on EC2 (Platform)"
   ]
  },
  {
   "cell_type": "markdown",
   "metadata": {},
   "source": [
    "In Task A.2, your job is to install an iPython notebook on the above EC2 instance and access the notebook from your own laptop. You will find that this is a SUPER cool idea because this setup allows you to (1) conduct data analysis from anywhere and (2) have scalable storage/computational resources. In fact, this kind of setup is pretty common in industry right now.\n",
    "\n",
    "There are many tutorials online. Please do a search by yourself, and follow the instructions to setup the environment. \n",
    "\n",
    "__Comments:__\n",
    "* Pay attention to security group settings\n",
    "* Install your python libraries through Anaconda Python Distribution\n",
    "* Set the password to <font color=\"red\">733</font>\n",
    "* The URL should start with <font color=\"red\">https</font>\n",
    "\n",
    "\n",
    "\n"
   ]
  },
  {
   "cell_type": "markdown",
   "metadata": {},
   "source": [
    "### Task A.3: Transferring Files between S3 and Local Machine (Application)  "
   ]
  },
  {
   "cell_type": "markdown",
   "metadata": {},
   "source": [
    "Amazon S3 (Simple Storage Service) is an online file storage web service. It allows for storing data in any format, and sharing data with anyone, and downloading data from anywhere. Most importantly, it's so cheap (a few cents per GB per month). \n",
    "\n",
    "\n",
    "You can use S3 either with a web-based management console, or full REST APIs and SDKs (e.g., [Boto 3](https://boto3.readthedocs.org/en/latest/)). They are all very easy to use. But please keep in mind some basic [concepts](http://docs.aws.amazon.com/AmazonS3/latest/dev/Introduction.html#CoreConcepts) when using them.\n",
    "\n",
    "\n",
    "\n",
    "__Task Description:__\n",
    "\n",
    "The goal of this task is to give you some sense on how the S3 console and the Boto S3 API work. Please follow the following steps to finish this task.\n",
    "\n",
    "1. Download the NBA dataset to your local machine \n",
    "2. Create a bucket in your S3 using the S3 console (you can use any name for the bucket)\n",
    "3. Upload \"playbyplay20120510040.__zip__\" to the bucket   \n",
    "4. Create a new python notebook on your EC2 instance\n",
    "5. In the notebook, please write a piece of code that can use the [Boto 3 API](https://boto3.readthedocs.org/en/latest/guide/migrations3.html) to do the followings:\n",
    "  - Retrieve \"playbyplay20120510040.zip\" from __S3__ to your local machine\n",
    "  - Extract the lines that contain the word of \"bryant\" (ignore case). You can use the [zipfile](https://docs.python.org/3.7/library/zipfile.html) library to read the zip file directly.\n",
    "  - Write the extracted lines to a local file named \"bryant.txt\"\n",
    "  - Upload \"bryant.txt\" to the bucket that you created \n",
    "\n",
    "\n",
    "__Hints:__\n",
    "\n",
    "* Please first install boto3 into your EC2 instance by running the following command:\n",
    "> conda install boto3\n",
    "\n",
    "* You should never put *AWS_ACCESS_KEY_ID* and *AWS_SECRET_ACCESS_KEY* into your code. To avoid this, you can set them as system environment variables \n",
    "\n",
    "* Please take a look at the Boto 3 Transfer Manager [API](http://boto3.readthedocs.org/en/latest/guide/s3.html#using-the-transfer-manager)\n",
    "\n",
    "__Submission:__\n",
    "\n",
    "* Please submit a URL that links to the notebook you created\n"
   ]
  },
  {
   "cell_type": "markdown",
   "metadata": {},
   "source": [
    "### Where To Go From Here (Optional)"
   ]
  },
  {
   "cell_type": "markdown",
   "metadata": {},
   "source": [
    "There are a few things that you can do to improve the iPython Notebook setup:\n",
    "\n",
    "1. Apply for [AWS Education Credits](https://aws.amazon.com/education/awseducate/) that allow you to launch a larger instance or a cluster of multiple instances for free\n",
    "2. You can launch EC2 spot instances (as worker nodes) to save cost\n",
    "3. Enable your iPython Notebook to support pyspark"
   ]
  },
  {
   "cell_type": "markdown",
   "metadata": {},
   "source": [
    "## Submission"
   ]
  },
  {
   "cell_type": "markdown",
   "metadata": {},
   "source": [
    "Submit the notebook URL to the CourSys activity Assignment 11."
   ]
  },
  {
   "cell_type": "code",
   "execution_count": null,
   "metadata": {},
   "outputs": [],
   "source": []
  }
 ],
 "metadata": {
  "kernelspec": {
   "display_name": "Python 3",
   "language": "python",
   "name": "python3"
  },
  "language_info": {
   "codemirror_mode": {
    "name": "ipython",
    "version": 3
   },
   "file_extension": ".py",
   "mimetype": "text/x-python",
   "name": "python",
   "nbconvert_exporter": "python",
   "pygments_lexer": "ipython3",
   "version": "3.6.9"
  }
 },
 "nbformat": 4,
 "nbformat_minor": 4
}
