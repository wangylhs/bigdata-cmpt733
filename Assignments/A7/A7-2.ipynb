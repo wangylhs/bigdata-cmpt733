{
 "cells": [
  {
   "cell_type": "markdown",
   "metadata": {},
   "source": [
    "# Assignment 7: Automated Machine Learning (Part 2)\n",
    "## Objective:\n",
    "\n",
    "As we learned from the class, the high demand for machine learning has produced a large amount of data scientists who have developed expertise in tools and algorithms. The features in the data will directly influence the results. However, it is tedious and unscalable to manually design and select features without domain knowledge. Thus, using some AutoML techniques will significantly help data scientists save labour and time. \n",
    "After completing this assignment, you should be able to answer the following questions:\n",
    "\n",
    "1. Why do we need AutoML?\n",
    "2. How does auto feature generation work?\n",
    "3. How to use featuretools library to automatically generate features?\n",
    "4. How to get useful features in a large feature space?\n",
    "\n",
    "Imagine you are a data scientist in an online retailer company, for example, Amazon. Your task is to provide some recommendations to customers based on their historical purchase records.\n",
    "\n",
    "In this assignment, we predict whether the customer will buy **Banana** in the next 4 weeks. It is a classification problem. To simplify the problem, we have already generated some features and provide the accuracy of the model (Random Forest model). The task for you is to generate **10** useful features and beat our model performance (AUC = 0.61, see below). \n",
    "\n",
    "For example, <br>\n",
    "`MODE(orders.MODE(order_products.product_name)) = Bag of Organic Bananas` means whether the most frequent purchase of the customer is Bag of Organic Bananas. \n",
    "\n",
    "```\n",
    "1: Feature: MODE(orders.MODE(order_products.product_name)) = Bag of Organic Bananas\n",
    "2: Feature: MODE(order_products.aisle_id) is unknown\n",
    "3: Feature: SUM(orders.NUM_UNIQUE(order_products.product_name))\n",
    "4: Feature: MODE(orders.MODE(order_products.product_name)) = Boneless Skinless Chicken Breasts\n",
    "5: Feature: MODE(order_products.product_name) = Boneless Skinless Chicken Breasts\n",
    "6: Feature: STD(orders.NUM_UNIQUE(order_products.aisle_id))\n",
    "7: Feature: MODE(order_products.aisle_id) = 83\n",
    "8: Feature: MEDIAN(orders.MINUTE(order_time))\n",
    "9: Feature: MODE(orders.DAY(order_time)) = 23\n",
    "10: Feature: MODE(orders.MODE(order_products.department)) = produce\n",
    "\n",
    "AUC 0.61\n",
    "```\n",
    "\n",
    "\n",
    "## Preliminary\n",
    "If you never use featuretools before, you need to learn some basic knowledge of this topic. \n",
    "I found that these are some good resources: \n",
    "* [featuretools documentation](https://docs.featuretools.com/en/stable/)\n",
    "* [Tutorial: Automated Feature Engineering in Python](https://towardsdatascience.com/automated-feature-engineering-in-python-99baf11cc219)\n",
    "\n",
    "The data can be downloaded from [A7-2-data.zip](A7-2-data.zip). "
   ]
  },
  {
   "cell_type": "markdown",
   "metadata": {},
   "source": [
    "## 0. Preparation\n",
    "Import relevant libraries and load the dataset: <br>\n",
    "users: <br>\n",
    "* user_id: customer identifier\n",
    "* label:  1 if the customer will buy banana in next 4 weeks, 0 otherwise\n",
    "\n",
    "orders: <br>\n",
    "* order_id: order identifier\n",
    "* user_id: customer identifier\n",
    "* order_time: date of the order was placed on \n",
    "\n",
    "order_products: <br>\n",
    "* order_id: order identifier\n",
    "* order_product_id: foreign key\n",
    "* reordered:  1 if this product has been ordered by this user in the past, 0 otherwise\n",
    "* product_name: name of the product\n",
    "* aisle_id: aisle identifier\n",
    "* department: the name of the department\n",
    "* order_time: date of the order was placed on"
   ]
  },
  {
   "cell_type": "code",
   "execution_count": 2,
   "metadata": {},
   "outputs": [
    {
     "data": {
      "text/plain": [
       "'0.13.2'"
      ]
     },
     "execution_count": 2,
     "metadata": {},
     "output_type": "execute_result"
    }
   ],
   "source": [
    "import pandas as pd\n",
    "\n",
    "import featuretools as ft\n",
    "from sklearn.ensemble import RandomForestClassifier\n",
    "from sklearn.model_selection import cross_val_score\n",
    "import os\n",
    "ft.__version__"
   ]
  },
  {
   "cell_type": "code",
   "execution_count": 5,
   "metadata": {},
   "outputs": [
    {
     "name": "stdout",
     "output_type": "stream",
     "text": [
      "False    628\n",
      "True     139\n",
      "Name: label, dtype: int64\n"
     ]
    },
    {
     "data": {
      "text/plain": [
       "(5997, 4)"
      ]
     },
     "execution_count": 5,
     "metadata": {},
     "output_type": "execute_result"
    }
   ],
   "source": [
    "orders = pd.read_csv(\"orders.csv\")\n",
    "order_products = pd.read_csv(\"order_products.csv\")\n",
    "users = pd.read_csv(\"users.csv\")\n",
    "\n",
    "print(users[\"label\"].value_counts())\n",
    "orders.shape"
   ]
  },
  {
   "cell_type": "markdown",
   "metadata": {},
   "source": [
    "## Task 1. Feature Generation\n",
    "In this task, you need to use featuretools to generate candidate features by using the above three tables.\n",
    "\n",
    "### 1.1 Representing Data with EntitySet"
   ]
  },
  {
   "cell_type": "markdown",
   "metadata": {},
   "source": [
    "Define entities and their relationships (see [https://docs.featuretools.com/en/stable/generated/featuretools.EntitySet.html](https://docs.featuretools.com/en/stable/generated/featuretools.EntitySet.html))"
   ]
  },
  {
   "cell_type": "code",
   "execution_count": null,
   "metadata": {},
   "outputs": [],
   "source": [
    "# Get the relationship between entities\n",
    "def load_entityset(orders, order_products, users):\n",
    "    # --- Write your code below ---\n",
    "    # return the EntitySet object"
   ]
  },
  {
   "cell_type": "markdown",
   "metadata": {},
   "source": [
    "### 1.2 Deep Feature Synthesis"
   ]
  },
  {
   "cell_type": "code",
   "execution_count": null,
   "metadata": {},
   "outputs": [],
   "source": [
    "# Automatically generate features\n",
    "es = load_entityset(orders, order_products, users)\n",
    "\n",
    "# use ft.dfs to perform feature engineering\n",
    "# --- Write your code below ---\n",
    "feature_matrix, feature_defs = ft.dfs( ... )"
   ]
  },
  {
   "cell_type": "code",
   "execution_count": null,
   "metadata": {},
   "outputs": [],
   "source": [
    "# output what features you generate\n",
    "feature_matrix"
   ]
  },
  {
   "cell_type": "markdown",
   "metadata": {},
   "source": [
    "## Task 2. Feature Selection\n",
    "In this task, you are going to select 10 features that are useful and train the *Random Forest* model. The goal is to beat the accuracy performance as we have shown before. Note that you have to use the Random Forest and the hyperparameters we provide in Section 2.2. In other words, your job is to achieve a higher AUC than 0.61 through feature generation/selection rather than through hyperparameter tuning or model selectoin. \n",
    "\n",
    "### 2.1 Select top features"
   ]
  },
  {
   "cell_type": "code",
   "execution_count": 6,
   "metadata": {},
   "outputs": [],
   "source": [
    "# --- Write your code below ---\n",
    "# Select top-10 features and return X, y (X.shape = (767, 10)"
   ]
  },
  {
   "cell_type": "markdown",
   "metadata": {},
   "source": [
    "### 2.2 Get accuracy and list features"
   ]
  },
  {
   "cell_type": "code",
   "execution_count": null,
   "metadata": {},
   "outputs": [],
   "source": [
    "clf = RandomForestClassifier(n_estimators=400, n_jobs=-1)\n",
    "scores = cross_val_score(estimator=clf,X=X, y=y, cv=3,\n",
    "                             scoring=\"roc_auc\", verbose=True)\n",
    "\n",
    "print(\"AUC %.2f\" % (scores.mean()))\n",
    "\n",
    "# Print top-10 features"
   ]
  },
  {
   "cell_type": "markdown",
   "metadata": {},
   "source": [
    "## Task3. Writing Questions\n",
    "\n",
    "1. Please list three advantages and disadvantages of featuretools. \n",
    "2. For those disadvantages you listed above, do you have any idea to improve it? "
   ]
  },
  {
   "cell_type": "markdown",
   "metadata": {},
   "source": [
    "--- Write your answer here---"
   ]
  },
  {
   "cell_type": "markdown",
   "metadata": {},
   "source": [
    "## Submission\n",
    "Complete the code in this notebook, and submit it to the CourSys activity Assignment 7."
   ]
  }
 ],
 "metadata": {
  "kernelspec": {
   "display_name": "Python 3",
   "language": "python",
   "name": "python3"
  },
  "language_info": {
   "codemirror_mode": {
    "name": "ipython",
    "version": 3
   },
   "file_extension": ".py",
   "mimetype": "text/x-python",
   "name": "python",
   "nbconvert_exporter": "python",
   "pygments_lexer": "ipython3",
   "version": "3.7.4"
  }
 },
 "nbformat": 4,
 "nbformat_minor": 2
}
